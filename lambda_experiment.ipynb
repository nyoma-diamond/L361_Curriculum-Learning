{
 "cells": [
  {
   "cell_type": "code",
   "execution_count": null,
   "id": "initial_id",
   "metadata": {
    "collapsed": true
   },
   "outputs": [],
   "source": [
    "from ditto_server import DittoStrategy\n",
    "from ditto_client import ditto_client_fn_generator\n",
    "from femnist import download_femnist\n",
    "from utils import CLIENT_MODEL_DIR\n",
    "\n",
    "import shutil\n",
    "import os\n",
    "\n",
    "import flwr as fl\n",
    "import numpy as np"
   ]
  },
  {
   "cell_type": "code",
   "outputs": [],
   "source": [
    "# Download FEMNIST data (does nothing if already present)\n",
    "download_femnist()"
   ],
   "metadata": {
    "collapsed": false
   },
   "id": "7a6cc6072362a0b2",
   "execution_count": null
  },
  {
   "cell_type": "code",
   "outputs": [],
   "source": [
    "results = {}\n",
    "\n",
    "for _lambda in np.arange(0, 1.1, 0.1):\n",
    "    # Reset client models\n",
    "    if os.path.exists(CLIENT_MODEL_DIR):\n",
    "        shutil.rmtree(CLIENT_MODEL_DIR)  # Delete client model directory\n",
    "    os.makedirs(CLIENT_MODEL_DIR)  # Recreate client model directory\n",
    "    \n",
    "    num_clients = 8\n",
    "    num_rounds = 25\n",
    "    epochs_per_round = 25\n",
    "    \n",
    "    # https://flower.ai/docs/framework/tutorial-series-customize-the-client-pytorch.html\n",
    "    results[_lambda] = fl.simulation.start_simulation(\n",
    "        num_clients=num_clients,\n",
    "        client_fn=ditto_client_fn_generator(_lambda=_lambda, epochs_per_round=epochs_per_round),\n",
    "        config=fl.server.ServerConfig(num_rounds=num_rounds),\n",
    "        strategy=DittoStrategy(print_progress=False),\n",
    "        client_resources={\n",
    "            # 'num_cpus': max(os.cpu_count()//num_clients, 1),\n",
    "            'num_gpus': 1/num_clients\n",
    "        }\n",
    "    )"
   ],
   "metadata": {
    "collapsed": false
   },
   "id": "a9ca91ebd4945133",
   "execution_count": null
  },
  {
   "cell_type": "code",
   "outputs": [],
   "source": [
    "results"
   ],
   "metadata": {
    "collapsed": false
   },
   "id": "642785065554c217",
   "execution_count": null
  }
 ],
 "metadata": {
  "kernelspec": {
   "display_name": "Python 3",
   "language": "python",
   "name": "python3"
  },
  "language_info": {
   "codemirror_mode": {
    "name": "ipython",
    "version": 2
   },
   "file_extension": ".py",
   "mimetype": "text/x-python",
   "name": "python",
   "nbconvert_exporter": "python",
   "pygments_lexer": "ipython2",
   "version": "2.7.6"
  }
 },
 "nbformat": 4,
 "nbformat_minor": 5
}
