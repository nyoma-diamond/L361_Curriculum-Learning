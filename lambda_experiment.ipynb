{
 "cells": [
  {
   "cell_type": "code",
   "execution_count": null,
   "id": "initial_id",
   "metadata": {
    "collapsed": true
   },
   "outputs": [],
   "source": [
    "from ditto_server import DittoStrategy\n",
    "from ditto_client import ditto_client_fn_generator\n",
    "from femnist import download_femnist\n",
    "from utils import CLIENT_MODEL_DIR\n",
    "\n",
    "import shutil\n",
    "import os\n",
    "import gc\n",
    "\n",
    "import flwr as fl\n",
    "import numpy as np\n",
    "import pandas as pd\n",
    "import matplotlib.pyplot as plt\n",
    "import ray"
   ]
  },
  {
   "cell_type": "code",
   "outputs": [],
   "source": [
    "# Download FEMNIST data (does nothing if already present)\n",
    "download_femnist()"
   ],
   "metadata": {
    "collapsed": false
   },
   "id": "7a6cc6072362a0b2",
   "execution_count": null
  },
  {
   "cell_type": "code",
   "outputs": [],
   "source": [
    "results = {}\n",
    "\n",
    "for _lambda in np.linspace(0, 1, 5):\n",
    "    print('lambda =', _lambda)\n",
    "    # Reset client models\n",
    "    if os.path.exists(CLIENT_MODEL_DIR):\n",
    "        shutil.rmtree(CLIENT_MODEL_DIR)  # Delete client model directory\n",
    "    os.makedirs(CLIENT_MODEL_DIR)  # Recreate client model directory\n",
    "    \n",
    "    num_clients = 16\n",
    "    num_rounds = 25\n",
    "    epochs_per_round = 10\n",
    "    \n",
    "    # https://flower.ai/docs/framework/tutorial-series-customize-the-client-pytorch.html\n",
    "    results[_lambda] = fl.simulation.start_simulation(\n",
    "        num_clients=num_clients,\n",
    "        client_fn=ditto_client_fn_generator(_lambda=_lambda, epochs_per_round=epochs_per_round),\n",
    "        config=fl.server.ServerConfig(num_rounds=num_rounds),\n",
    "        strategy=DittoStrategy(log_accuracy=True),\n",
    "        client_resources={\n",
    "            'num_cpus': max(os.cpu_count()//num_clients, 1)\n",
    "        }\n",
    "    )\n",
    "    \n",
    "    # Clean up after simulation to prevent memory leakage\n",
    "    ray.shutdown()\n",
    "    gc.collect()"
   ],
   "metadata": {
    "collapsed": false
   },
   "id": "a9ca91ebd4945133",
   "execution_count": null
  },
  {
   "cell_type": "code",
   "outputs": [],
   "source": [
    "global_accuracies = {_lambda: [acc for _, acc in results[_lambda].metrics_distributed['avg_global_accuracy']] for _lambda in results.keys()}\n",
    "local_accuracies = {_lambda: [acc for _, acc in results[_lambda].metrics_distributed['avg_local_accuracy']] for _lambda in results.keys()}"
   ],
   "metadata": {
    "collapsed": false
   },
   "id": "c5cc15db7326c993",
   "execution_count": null
  },
  {
   "cell_type": "code",
   "outputs": [],
   "source": [
    "pd.DataFrame.from_dict(global_accuracies).plot()\n",
    "plt.xlabel('Round')\n",
    "plt.ylabel('Mean global accuracy')\n",
    "plt.legend(title='$\\lambda$')\n",
    "\n",
    "plt.show()\n",
    "\n",
    "pd.DataFrame.from_dict(local_accuracies).plot()\n",
    "plt.xlabel('Round')\n",
    "plt.ylabel('Mean local accuracy')\n",
    "plt.legend(title='$\\lambda$')\n",
    "\n",
    "plt.show()"
   ],
   "metadata": {
    "collapsed": false
   },
   "id": "4cc61ae1e99c504",
   "execution_count": null
  }
 ],
 "metadata": {
  "kernelspec": {
   "display_name": "Python 3",
   "language": "python",
   "name": "python3"
  },
  "language_info": {
   "codemirror_mode": {
    "name": "ipython",
    "version": 2
   },
   "file_extension": ".py",
   "mimetype": "text/x-python",
   "name": "python",
   "nbconvert_exporter": "python",
   "pygments_lexer": "ipython2",
   "version": "2.7.6"
  }
 },
 "nbformat": 4,
 "nbformat_minor": 5
}
